{
 "cells": [
  {
   "attachments": {},
   "cell_type": "markdown",
   "metadata": {},
   "source": [
    "# Bootcamp: Engenheiro(a) de Dados Cloud\n",
    "\n",
    "### TRABALHO PRÁTICO\n",
    "### Módulo 1: Fundamentos em Arquitetura de Dados e Soluções em Nuvem\n",
    "\n",
    "\n",
    "Problema: \n",
    "\n",
    "Você é Engenheiro(a) de Dados em uma grande instituição educacional. O gestor de sua área iniciou um novo projeto de inteligência de dados com o objetivo de entender o desempenho de alunos do ensino médio de todo o Brasil no Exame Nacional do Ensino Médio (ENEM). Desse modo, você será responsável por construir um Data Lake com os dados do ENEM 2020, realizar o processamento utilizando ferramental adequado e disponibilizar o dado para consultas dos usuários de negócios e analistas de BI.\n",
    "\n",
    "\n",
    "\n",
    "\n"
   ]
  },
  {
   "attachments": {},
   "cell_type": "markdown",
   "metadata": {},
   "source": [
    " ### 1º FAZER UPLOAD PARA O DATALAKE"
   ]
  },
  {
   "attachments": {},
   "cell_type": "markdown",
   "metadata": {
    "tags": []
   },
   "source": [
    "1 - Obter as credenciais login e senha para o console da AWS."
   ]
  },
  {
   "cell_type": "code",
   "execution_count": null,
   "metadata": {
    "execution": {
     "iopub.execute_input": "2022-11-06T00:12:40.204958Z",
     "iopub.status.busy": "2022-11-06T00:12:40.204377Z",
     "iopub.status.idle": "2022-11-06T00:12:40.734435Z",
     "shell.execute_reply": "2022-11-06T00:12:40.733661Z",
     "shell.execute_reply.started": "2022-11-06T00:12:40.204899Z"
    },
    "tags": []
   },
   "outputs": [],
   "source": [
    "#Imports\n",
    "import pandas as pd\n",
    "from pathlib import Path"
   ]
  },
  {
   "cell_type": "code",
   "execution_count": null,
   "metadata": {
    "execution": {
     "iopub.execute_input": "2022-11-06T00:12:42.029970Z",
     "iopub.status.busy": "2022-11-06T00:12:42.029509Z",
     "iopub.status.idle": "2022-11-06T00:12:42.045318Z",
     "shell.execute_reply": "2022-11-06T00:12:42.044489Z",
     "shell.execute_reply.started": "2022-11-06T00:12:42.029942Z"
    },
    "tags": []
   },
   "outputs": [],
   "source": [
    "#Configuração do caminho das credenciais de acesso.\n",
    "\n",
    "IAM_user = 'vinicius_perdigao'\n",
    "path_work = Path('E:\\Cursos\\Eng_Dados_Cloud')\n",
    "access_keys_csv = path_work/f'{IAM_user}_accessKeys.csv'\n"
   ]
  },
  {
   "attachments": {},
   "cell_type": "markdown",
   "metadata": {},
   "source": [
    "2 -  Configurar o acesso ao AWS CLI."
   ]
  },
  {
   "cell_type": "code",
   "execution_count": null,
   "metadata": {
    "execution": {
     "iopub.execute_input": "2022-11-06T00:12:45.988823Z",
     "iopub.status.busy": "2022-11-06T00:12:45.988439Z",
     "iopub.status.idle": "2022-11-06T00:12:47.070145Z",
     "shell.execute_reply": "2022-11-06T00:12:47.069301Z",
     "shell.execute_reply.started": "2022-11-06T00:12:45.988797Z"
    },
    "tags": []
   },
   "outputs": [],
   "source": [
    "#Checar versão do AWS CLI\n",
    "!aws --version"
   ]
  },
  {
   "cell_type": "code",
   "execution_count": null,
   "metadata": {
    "execution": {
     "iopub.execute_input": "2022-11-06T00:12:49.731359Z",
     "iopub.status.busy": "2022-11-06T00:12:49.730879Z",
     "iopub.status.idle": "2022-11-06T00:12:50.342245Z",
     "shell.execute_reply": "2022-11-06T00:12:50.341341Z",
     "shell.execute_reply.started": "2022-11-06T00:12:49.731333Z"
    },
    "tags": []
   },
   "outputs": [],
   "source": [
    "# Importar arquivo csv com as credenciais para acessar a AWS.\n",
    "!aws configure import --csv file://$access_keys_csv"
   ]
  },
  {
   "cell_type": "code",
   "execution_count": null,
   "metadata": {
    "execution": {
     "iopub.execute_input": "2022-11-06T00:12:52.291618Z",
     "iopub.status.busy": "2022-11-06T00:12:52.291141Z",
     "iopub.status.idle": "2022-11-06T00:12:53.672547Z",
     "shell.execute_reply": "2022-11-06T00:12:53.671744Z",
     "shell.execute_reply.started": "2022-11-06T00:12:52.291578Z"
    },
    "tags": []
   },
   "outputs": [],
   "source": [
    "# Listar os buckets do S3.\n",
    "!aws s3 ls"
   ]
  },
  {
   "attachments": {},
   "cell_type": "markdown",
   "metadata": {},
   "source": [
    "3. Fazendo Upload dos arquivos para o Bucket S3.\n"
   ]
  },
  {
   "cell_type": "code",
   "execution_count": null,
   "metadata": {},
   "outputs": [],
   "source": [
    "print('Fazendo upload de arquivos...')\n",
    "\n",
    "import boto3\n",
    "\n",
    "# Criar um cliente para interagir com a AWS S3\n",
    "\n",
    "s3_client = boto3.client('s3')\n",
    "\n",
    "# Fazer upload do arquivo para o bucket no s3\n",
    "\n",
    "s3_client.upload_file(\"MICRODADOS_ENEM_2020.csv\",\n",
    "                      \"datalake-vinicius\",\n",
    "                      \"raw-data/MICRODADOS_ENEM_2020.csv\")\n",
    "\n",
    "print('Processo finalizado...')"
   ]
  },
  {
   "attachments": {},
   "cell_type": "markdown",
   "metadata": {},
   "source": [
    "### Respondendo as perguntas de negócio com querys SQL no SPARK\n",
    "\n"
   ]
  },
  {
   "cell_type": "code",
   "execution_count": null,
   "metadata": {},
   "outputs": [],
   "source": [
    "# Iniciando uma sessão SPARK\n",
    "from pyspark.sql import SparkSession\n",
    "\n",
    "spark = SparkSession.builder.appName(\"ENEM_XP\").getOrCreate()"
   ]
  },
  {
   "cell_type": "code",
   "execution_count": null,
   "metadata": {},
   "outputs": [],
   "source": [
    "# Ler os dados do enem 2020\n",
    "\n",
    "enem = (spark.read\n",
    "    .format(\"csv\")\n",
    "    .option(\"header\", True)\n",
    "    .option(\"inferSchema\", True)\n",
    "    .option(\"delimiter\", \";\")\n",
    "    .load(\"E:\\Cursos\\Eng_Dados_Cloud\\MICRODADOS_ENEM_2020.csv\")\n",
    "    )"
   ]
  },
  {
   "cell_type": "code",
   "execution_count": null,
   "metadata": {},
   "outputs": [],
   "source": [
    "# Print do Schema\n",
    "enem.printSchema()"
   ]
  },
  {
   "cell_type": "code",
   "execution_count": null,
   "metadata": {},
   "outputs": [],
   "source": [
    "# Separando um DF com as colunas de interesse.\n",
    "df = (\n",
    "    enem\n",
    "    .select(\"TP_FAIXA_ETARIA\", \"TP_SEXO\", \"TP_ESTADO_CIVIL\", \"TP_COR_RACA\", \"TP_NACIONALIDADE\", \"NU_NOTA_CN\", \"NU_NOTA_CH\", \"NU_NOTA_LC\", \"NU_NOTA_MT\",\"SG_UF_ESC\", \"NO_MUNICIPIO_ESC\", \"NO_MUNICIPIO_PROVA\", \"Q008\", \"Q002\")\n",
    "\n",
    ")"
   ]
  },
  {
   "cell_type": "code",
   "execution_count": null,
   "metadata": {},
   "outputs": [],
   "source": [
    "# Printando as 5 primeiras linhas.\n",
    "df.show(5)"
   ]
  },
  {
   "cell_type": "code",
   "execution_count": null,
   "metadata": {},
   "outputs": [],
   "source": [
    "# Contando o número de participantes no enem 2020\n",
    "df.count()"
   ]
  },
  {
   "cell_type": "code",
   "execution_count": null,
   "metadata": {},
   "outputs": [],
   "source": [
    "# Criando TempView\n",
    "df.createOrReplaceTempView(\"enem\")"
   ]
  },
  {
   "cell_type": "code",
   "execution_count": null,
   "metadata": {},
   "outputs": [],
   "source": [
    "# Pergunta 5 - Sobre o ENEM 2020, qual é a média da nota em matemática apenas para as alunas do sexo Feminino?\n",
    "\n",
    "sqlDF = spark.sql(\n",
    "                \"SELECT round(avg(NU_NOTA_MT),2) as media_matematica \\\n",
    "                FROM enem\\\n",
    "                WHERE TP_SEXO = 'F'\")\n",
    "sqlDF.show()"
   ]
  },
  {
   "cell_type": "code",
   "execution_count": null,
   "metadata": {},
   "outputs": [],
   "source": [
    "# Pergunta - 06 - Qual é a média da nota em Ciências Humanas para os alunos do sexo masculino que estudaram numa escola no estado de São Paulo?\n",
    "\n",
    "sqlDF = spark.sql(\n",
    "                \"SELECT round(avg(NU_NOTA_CH),2) as media_ciencias_humanas \\\n",
    "                FROM enem\\\n",
    "                WHERE TP_SEXO = 'M'\\\n",
    "                AND SG_UF_ESC = 'SP'\")\n",
    "sqlDF.show()"
   ]
  },
  {
   "cell_type": "code",
   "execution_count": null,
   "metadata": {},
   "outputs": [],
   "source": [
    "# Qual é a média da nota em Ciências Humanas dos alunos que estudaram numa escola na cidade de Natal?\n",
    "\n",
    "sqlDF = spark.sql(\n",
    "                \"SELECT round(avg(NU_NOTA_CH),2) as media_ciencias_humanas \\\n",
    "                FROM enem\\\n",
    "                WHERE NO_MUNICIPIO_ESC = 'Natal'\\\n",
    "                \")\n",
    "sqlDF.show()"
   ]
  },
  {
   "cell_type": "code",
   "execution_count": null,
   "metadata": {},
   "outputs": [],
   "source": [
    "# Qual é o município (município da escola) que obteve a maior nota MÉDIA em matemática?\n",
    "\n",
    "sqlDF = spark.sql(\n",
    "                \"SELECT NO_MUNICIPIO_ESC, avg(NU_NOTA_MT) as medias  \\\n",
    "                FROM enem\\\n",
    "                GROUP BY NO_MUNICIPIO_ESC\\\n",
    "                ORDER BY medias DESC\\\n",
    "                LIMIT 1\\\n",
    "                \")\n",
    "sqlDF.show()\n"
   ]
  },
  {
   "cell_type": "code",
   "execution_count": null,
   "metadata": {},
   "outputs": [],
   "source": [
    "# Pergunta 9 - Quantas pessoas que estudaram numa escola em Recife fizeram a prova do ENEM nessa mesma cidade?\n",
    "sqlDF = spark.sql(\n",
    "                \"SELECT count(*) as quant_pessoas  \\\n",
    "                FROM enem\\\n",
    "                WHERE NO_MUNICIPIO_ESC = 'Recife' \\\n",
    "                AND NO_MUNICIPIO_PROVA = 'Recife'\\\n",
    "                \")\n",
    "sqlDF.show()\n"
   ]
  },
  {
   "cell_type": "code",
   "execution_count": null,
   "metadata": {},
   "outputs": [],
   "source": [
    "# PERGUNTA 10 - Qual é a nota média em Ciências Humanas dos alunos que estudaram numa escola no estado de Santa Catarina e possuem PELO MENOS 1 banheiro em casa?\n",
    "\n",
    "sqlDF = spark.sql(\n",
    "                \"SELECT round(avg(NU_NOTA_CH),2) as media_nota  \\\n",
    "                FROM enem\\\n",
    "                WHERE SG_UF_ESC = 'SC' \\\n",
    "                AND Q008 <> 'A'\\\n",
    "                \")\n",
    "sqlDF.show()\n",
    "\n",
    "\n"
   ]
  },
  {
   "cell_type": "code",
   "execution_count": null,
   "metadata": {},
   "outputs": [],
   "source": [
    "# Pergunta 11 - Qual é a nota média em matemática dos alunos cuja mãe possui PELO MENOS o ensino superior completo, do sexo feminino que estudaram numa escola em Belo Horizonte?\n",
    "\n",
    "sqlDF = spark.sql(\n",
    "                \"SELECT round(avg(NU_NOTA_MT),2) as media_nota  \\\n",
    "                FROM enem\\\n",
    "                WHERE NO_MUNICIPIO_ESC = 'Belo Horizonte' \\\n",
    "                AND Q002 IN('F','G')\\\n",
    "                AND TP_SEXO = 'F'\\\n",
    "                \")\n",
    "sqlDF.show()\n"
   ]
  }
 ],
 "metadata": {
  "kernelspec": {
   "display_name": "Python 3",
   "language": "python",
   "name": "python3"
  },
  "language_info": {
   "codemirror_mode": {
    "name": "ipython",
    "version": 3
   },
   "file_extension": ".py",
   "mimetype": "text/x-python",
   "name": "python",
   "nbconvert_exporter": "python",
   "pygments_lexer": "ipython3",
   "version": "3.10.9"
  },
  "vscode": {
   "interpreter": {
    "hash": "7bc83009bda636566e570acfdb8e2ca8f43004ad2c0edfdafa27346ce5fadedb"
   }
  }
 },
 "nbformat": 4,
 "nbformat_minor": 4
}
